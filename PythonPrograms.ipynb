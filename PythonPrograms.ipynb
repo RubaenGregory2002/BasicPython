{
  "nbformat": 4,
  "nbformat_minor": 0,
  "metadata": {
    "colab": {
      "provenance": [],
      "authorship_tag": "ABX9TyPXQSR8jmr3AE1bA+1fWi9H",
      "include_colab_link": true
    },
    "kernelspec": {
      "name": "python3",
      "display_name": "Python 3"
    },
    "language_info": {
      "name": "python"
    }
  },
  "cells": [
    {
      "cell_type": "markdown",
      "metadata": {
        "id": "view-in-github",
        "colab_type": "text"
      },
      "source": [
        "<a href=\"https://colab.research.google.com/github/RubaenGregory2002/BasicPython/blob/main/PythonPrograms.ipynb\" target=\"_parent\"><img src=\"https://colab.research.google.com/assets/colab-badge.svg\" alt=\"Open In Colab\"/></a>"
      ]
    },
    {
      "cell_type": "markdown",
      "source": [
        ">**1.Program to find the largest number**\n",
        "\n",
        "- **Step-1:** Accept inputs.\n",
        "\n",
        "- **Step-2:** Find the largest using conditionals `if-elif-else`.\n",
        "\n",
        "- **Step-3:** Print the largest number."
      ],
      "metadata": {
        "id": "lAwAjPEBAQx9"
      }
    },
    {
      "cell_type": "code",
      "source": [
        "#num1 = 40\n",
        "#num2 = 24\n",
        "#num3 = 32\n",
        "#uncomment following lines to take three numbers from user\n",
        "num1 = float(input(\"Enter first number: \"))\n",
        "num2 = float(input(\"Enter second number: \"))\n",
        "num3 = float(input(\"Enter third number: \"))\n",
        "if (num1 >= num2) and (num1 >= num3):\n",
        "   largest = num1\n",
        "elif (num2 >= num1) and (num2 >= num3):\n",
        "   largest = num2\n",
        "else:\n",
        "   largest = num3\n",
        "print(\"The largest number is\", largest)"
      ],
      "metadata": {
        "colab": {
          "base_uri": "https://localhost:8080/"
        },
        "id": "9hDZht6FBYxY",
        "outputId": "93d4c274-d88b-473f-f5e6-5fb1e0e65d9a"
      },
      "execution_count": null,
      "outputs": [
        {
          "output_type": "stream",
          "name": "stdout",
          "text": [
            "Enter first number: 50\n",
            "Enter second number: 25\n",
            "Enter third number: 12\n",
            "The largest number is 50.0\n"
          ]
        }
      ]
    },
    {
      "cell_type": "markdown",
      "source": [
        "-------------"
      ],
      "metadata": {
        "id": "ndfFjuUuD-dY"
      }
    },
    {
      "cell_type": "markdown",
      "source": [
        "**2.Printing Multiplication Table**\n",
        "\n",
        "- **Step-1:** Assign the number whose multiplication tablr is to be printed or accept input from user.\n",
        "- **Step-2:** Using `for` loop find the multiples.\n",
        "- **Step-3:** Print the table. "
      ],
      "metadata": {
        "id": "UnRfroPaCyoe"
      }
    },
    {
      "cell_type": "code",
      "source": [
        "num=12\n",
        "for i in range(1,11):\n",
        "    print(num,'x',i,'=',num*i)"
      ],
      "metadata": {
        "colab": {
          "base_uri": "https://localhost:8080/"
        },
        "id": "4HZseqiUD6Co",
        "outputId": "721eba07-23cd-4e14-cb7f-6f825501f979"
      },
      "execution_count": null,
      "outputs": [
        {
          "output_type": "stream",
          "name": "stdout",
          "text": [
            "12 x 1 = 12\n",
            "12 x 2 = 24\n",
            "12 x 3 = 36\n",
            "12 x 4 = 48\n",
            "12 x 5 = 60\n",
            "12 x 6 = 72\n",
            "12 x 7 = 84\n",
            "12 x 8 = 96\n",
            "12 x 9 = 108\n",
            "12 x 10 = 120\n"
          ]
        }
      ]
    },
    {
      "cell_type": "markdown",
      "source": [
        "**Taking input from the user**"
      ],
      "metadata": {
        "id": "37SGd_nXFBel"
      }
    },
    {
      "cell_type": "code",
      "source": [
        "num = int(input(\"Display multiplication table of? \"))\n",
        "\n",
        "# Iterate 10 times from i = 1 to 10\n",
        "for i in range(1, 11):\n",
        "   print(i, 'x', num, '=', num*i)"
      ],
      "metadata": {
        "colab": {
          "base_uri": "https://localhost:8080/"
        },
        "id": "vru1FO5IFLxl",
        "outputId": "fb4350aa-7a17-471e-c9b7-d48e5832c45f"
      },
      "execution_count": null,
      "outputs": [
        {
          "output_type": "stream",
          "name": "stdout",
          "text": [
            "Display multiplication table of? 14\n",
            "1 x 14 = 14\n",
            "2 x 14 = 28\n",
            "3 x 14 = 42\n",
            "4 x 14 = 56\n",
            "5 x 14 = 70\n",
            "6 x 14 = 84\n",
            "7 x 14 = 98\n",
            "8 x 14 = 112\n",
            "9 x 14 = 126\n",
            "10 x 14 = 140\n"
          ]
        }
      ]
    },
    {
      "cell_type": "markdown",
      "source": [
        "---------"
      ],
      "metadata": {
        "id": "VagNKekjFePc"
      }
    },
    {
      "cell_type": "markdown",
      "source": [
        "**3.To Check the sign of a number**\n",
        "- **Step-1:** Assign or accept the number\n",
        "- **Step-2:** Using `if-elif-else` find whether the number is positive,negative or zero.\n",
        "- **Step-3** Print the result.  "
      ],
      "metadata": {
        "id": "iHNffAAdFf8U"
      }
    },
    {
      "cell_type": "code",
      "source": [
        "num = float(input(\"Enter a number: \"))\n",
        "if num > 0:\n",
        "   print(\"Positive number\")\n",
        "elif num == 0:\n",
        "   print(\"Zero\")\n",
        "else:\n",
        "   print(\"Negative number\")"
      ],
      "metadata": {
        "colab": {
          "base_uri": "https://localhost:8080/"
        },
        "id": "3zE5xzJiGf-W",
        "outputId": "449eece5-062f-4003-8567-6b3441074b36"
      },
      "execution_count": null,
      "outputs": [
        {
          "output_type": "stream",
          "name": "stdout",
          "text": [
            "Enter a number: -5\n",
            "Negative number\n"
          ]
        }
      ]
    },
    {
      "cell_type": "markdown",
      "source": [
        "------------"
      ],
      "metadata": {
        "id": "f8x7iU-eGqg8"
      }
    },
    {
      "cell_type": "markdown",
      "source": [
        "**4.Find the Surface Area and Volume of a Cylinder**\n",
        "  \n",
        "  $r$ is the base radius and $h$ is the height of the right circular cylinder.\n",
        "\n",
        "  $$SA=2πr(r+h)$$  \n",
        "\n",
        "  $$UV=\\pi r^2h$$\n",
        "\n",
        "- **Step-1:** Assign/Accept values for necessary values.\n",
        "- **Step-2:** Using the formula find the **SA** and **Volume**.\n",
        "- **Step-3:** Print the result."
      ],
      "metadata": {
        "id": "1BMm8dqCG5C2"
      }
    },
    {
      "cell_type": "code",
      "source": [
        "pi=3.14\n",
        "r=float(input(\"Radius of cylinder:\"))\n",
        "h=float(input(\"Height of cylinder:\"))\n",
        "SA=2*pi*r*(r+h)\n",
        "V=pi*r**2*h\n",
        "print((\"Surface Area is {} and Volume is {}\").format(SA,V))"
      ],
      "metadata": {
        "colab": {
          "base_uri": "https://localhost:8080/"
        },
        "id": "WQ7VSyekJwdv",
        "outputId": "04229f10-526c-4bde-9701-4f74318a36ce"
      },
      "execution_count": null,
      "outputs": [
        {
          "output_type": "stream",
          "name": "stdout",
          "text": [
            "Radius of cylinder:5\n",
            "Height of cylinder:2\n",
            "Surface Area is 219.8 and Volume is 157.0\n"
          ]
        }
      ]
    },
    {
      "cell_type": "markdown",
      "source": [
        "-------"
      ],
      "metadata": {
        "id": "vW10mCbYKKs0"
      }
    },
    {
      "cell_type": "markdown",
      "source": [
        "**5.Find area of a circle with radius $r$ using user input**\n",
        "\n",
        "- **Step-1:** Accept the input from user.\n",
        "- **Step-2:** Find the area using the formula $A = \\pi r^2$.\n",
        "- **Step-3:** Print the result."
      ],
      "metadata": {
        "id": "DMBel-fEKMVs"
      }
    },
    {
      "cell_type": "code",
      "source": [
        "r=float(input(\"Enter the radius: \"))\n",
        "print(\"Area: \",pi*r**2)"
      ],
      "metadata": {
        "colab": {
          "base_uri": "https://localhost:8080/"
        },
        "id": "2mmKE9QYLf7-",
        "outputId": "aeb87c66-bbb7-4b45-9e1d-c8dbb63a0210"
      },
      "execution_count": null,
      "outputs": [
        {
          "output_type": "stream",
          "name": "stdout",
          "text": [
            "Enter the radius: 10\n",
            "Area:  314.0\n"
          ]
        }
      ]
    },
    {
      "cell_type": "markdown",
      "source": [
        "-------"
      ],
      "metadata": {
        "id": "x5NS615ULx0N"
      }
    },
    {
      "cell_type": "markdown",
      "source": [
        "**6.Find the area of a rectangle with length $l$ and breadth $b$**\n",
        "\n",
        "- **Step-1:**Accept/Assign the values of length and breadth.\n",
        "- **Step-2:** Calculate the Area.\n",
        "- **Step-3:** Print the result."
      ],
      "metadata": {
        "id": "NbDKKsrkLy8l"
      }
    },
    {
      "cell_type": "code",
      "source": [
        "l=float(input(\"What is the length? \"))\n",
        "b=float(input(\"What is the breadth? \"))\n",
        "Area=l*b\n",
        "print(\"Area of the Rectangle is : \",Area)"
      ],
      "metadata": {
        "colab": {
          "base_uri": "https://localhost:8080/"
        },
        "id": "P9B2Xq5wMl12",
        "outputId": "368c8657-b0b6-452c-f072-16366adfc3b4"
      },
      "execution_count": null,
      "outputs": [
        {
          "output_type": "stream",
          "name": "stdout",
          "text": [
            "What is the length? 5\n",
            "What is the breadth? 4\n",
            "Area of the Rectangle is :  20.0\n"
          ]
        }
      ]
    },
    {
      "cell_type": "markdown",
      "source": [
        "--------"
      ],
      "metadata": {
        "id": "k3x5LoJwM9Qs"
      }
    },
    {
      "cell_type": "markdown",
      "source": [
        "**7.Replacing a word with another word in a sentence**\n",
        "\n",
        "- **Step-1:**Enter the sentence.\n",
        "- **Step-2:**Replace the word using `replace()` method in `python`.\n",
        "- **Step-3:** Print the Result.\n",
        ">Syntax:\n",
        "       str.replace(old,new)"
      ],
      "metadata": {
        "id": "WP6uU8uwM-iM"
      }
    },
    {
      "cell_type": "code",
      "source": [
        "text = 'My name is Stanley'\n",
        "\n",
        "replaced_text = text.replace('Stanley', 'Shalini')\n",
        "print(replaced_text)"
      ],
      "metadata": {
        "colab": {
          "base_uri": "https://localhost:8080/"
        },
        "id": "PEqpsJFpOeln",
        "outputId": "52c50606-0e2c-4927-bd51-237323d4c9fc"
      },
      "execution_count": null,
      "outputs": [
        {
          "output_type": "stream",
          "name": "stdout",
          "text": [
            "My name is Shalini\n"
          ]
        }
      ]
    },
    {
      "cell_type": "markdown",
      "source": [
        "-------"
      ],
      "metadata": {
        "id": "PO9mzOTvOvlG"
      }
    }
  ]
}